{
 "cells": [
  {
   "cell_type": "markdown",
   "id": "7664e1ed-15af-448e-a5cf-7944fcc3a3cf",
   "metadata": {},
   "source": [
    "# **ÖDEV (1.HAFTA)**"
   ]
  },
  {
   "cell_type": "markdown",
   "id": "867899b1-2885-4470-956d-91b816ab51c5",
   "metadata": {
    "id": "39f94c75-97f6-4ad4-81c8-302be5c6fa77"
   },
   "source": [
    "1- İki çocuğunun yaşları toplamı 5'tir. 3 yıl sonra babanın yaşı çocukların yaşları toplamının 3 katı olacağına göre babanın bugünkü yaşı kaçtır? \n",
    "\n",
    "Denklemi python dilinde kurunuz ve çıktıyı print ediniz. "
   ]
  },
  {
   "cell_type": "code",
   "execution_count": 129,
   "id": "e218887e-66f7-44ab-a849-18b44367a5ad",
   "metadata": {},
   "outputs": [
    {
     "data": {
      "text/plain": [
       "30"
      ]
     },
     "execution_count": 129,
     "metadata": {},
     "output_type": "execute_result"
    }
   ],
   "source": [
    "baba_ = (11*3)-3\n",
    "baba_"
   ]
  },
  {
   "cell_type": "markdown",
   "id": "301c8cbd-6617-4f3b-bd7e-e1ebc252c69d",
   "metadata": {
    "id": "6fb2cb52-65f0-4a80-a4f4-f31f7b70bf5f"
   },
   "source": [
    "2-_Veri bilimi, verilerden değer elde etmek için istatistik, bilimsel yöntemler, yapay zeka (AI) ve veri analizi dahil olmak üzere birçok alanı bir araya getirir. Veri Bilimiyle uğraşan kişilere veri bilimci denir. Bu kişiler web, akıllı telefonlar, müşteriler, sensörler ve diğer kaynaklardan toplanan verileri analiz etmek ve bunlardan eyleme dönüştürülebilir içgörüler üretmek amacıyla bir dizi beceriyi bir araya getirir._\n",
    "\n",
    "Yukarıda yer alan metindeki \"veri bilim\" kelimelerini bulup yerine \"VERİ BİLİM\" yazınız."
   ]
  },
  {
   "cell_type": "code",
   "execution_count": 1,
   "id": "a9459484-1cda-4c34-a860-06a7a94587b5",
   "metadata": {},
   "outputs": [],
   "source": [
    "metin = \"_Veri bilimi, verilerden değer elde etmek için istatistik, bilimsel yöntemler, yapay zeka (AI) ve veri analizi dahil olmak üzere birçok alanı bir araya getirir. Veri Bilimiyle uğraşan kişilere veri bilimci denir. Bu kişiler web, akıllı telefonlar, müşteriler, sensörler ve diğer kaynaklardan toplanan verileri analiz etmek ve bunlardan eyleme dönüştürülebilir içgörüler üretmek amacıyla bir dizi beceriyi bir araya getirir._\""
   ]
  },
  {
   "cell_type": "code",
   "execution_count": 2,
   "id": "102e85a5-603c-4f70-86fb-3448463c7f46",
   "metadata": {},
   "outputs": [
    {
     "data": {
      "text/plain": [
       "'_Veri bilimi, verilerden değer elde etmek için istatistik, bilimsel yöntemler, yapay zeka (AI) ve veri analizi dahil olmak üzere birçok alanı bir araya getirir. Veri Bilimiyle uğraşan kişilere VERI BILIMci denir. Bu kişiler web, akıllı telefonlar, müşteriler, sensörler ve diğer kaynaklardan toplanan verileri analiz etmek ve bunlardan eyleme dönüştürülebilir içgörüler üretmek amacıyla bir dizi beceriyi bir araya getirir._'"
      ]
     },
     "execution_count": 2,
     "metadata": {},
     "output_type": "execute_result"
    }
   ],
   "source": [
    "metin.replace('veri bilim',\"VERI BILIM\")"
   ]
  },
  {
   "cell_type": "markdown",
   "id": "9e1b9eb4-caf3-49b5-8180-55fe6595515e",
   "metadata": {
    "id": "bc97013a-39a7-465c-89e4-41420aaa2655"
   },
   "source": [
    "3- Adını, soyadını, yaşını, yaşadığın şehri ve üniversite ortalamanı aralarında birer boşluk olacak şekilde tek bir print ifade içerisinde yazın."
   ]
  },
  {
   "cell_type": "code",
   "execution_count": 4,
   "id": "62c91a92-042c-4662-b67c-0872d71f44d1",
   "metadata": {},
   "outputs": [
    {
     "name": "stdout",
     "output_type": "stream",
     "text": [
      "Selimhan Meral 24 Istanbul 2.5\n"
     ]
    }
   ],
   "source": [
    "print('Selimhan Meral 24 Istanbul 2.5')"
   ]
  },
  {
   "cell_type": "markdown",
   "id": "92c851d1-873a-49b7-bc1c-b0cce03a893f",
   "metadata": {
    "id": "29ec9965-6933-45d7-9496-c42e94045e19"
   },
   "source": [
    "4- Veri bilimi günümüzün en heyecan verici alanlardan biridir.\n",
    "\n",
    "\"Veri bilimi\" ve \"alanlardan biridir.\" kelimelerini cümle içerisinden alınız ve her kelimeyi uzunlukları kadar aşağı doğru çoğaltarak print ediniz.\n",
    "\n",
    "NOT: \"\\n\" ifadesi alt satıra geçer "
   ]
  },
  {
   "cell_type": "code",
   "execution_count": 1,
   "id": "3c7511c8-0b72-47cb-af01-c2ba90a22def",
   "metadata": {},
   "outputs": [
    {
     "name": "stdout",
     "output_type": "stream",
     "text": [
      "alanlardan biridir.\n",
      "\n",
      "alanlardan biridir.\n",
      "\n",
      "alanlardan biridir.\n",
      "\n",
      "alanlardan biridir.\n",
      "\n",
      "alanlardan biridir.\n",
      "\n",
      "alanlardan biridir.\n",
      "\n",
      "alanlardan biridir.\n",
      "\n",
      "alanlardan biridir.\n",
      "\n",
      "alanlardan biridir.\n",
      "\n",
      "alanlardan biridir.\n",
      "\n",
      "alanlardan biridir.\n",
      "\n",
      "alanlardan biridir.\n",
      "\n",
      "alanlardan biridir.\n",
      "\n",
      "alanlardan biridir.\n",
      "\n",
      "alanlardan biridir.\n",
      "\n",
      "alanlardan biridir.\n",
      "\n",
      "alanlardan biridir.\n",
      "\n",
      "alanlardan biridir.\n",
      "\n",
      "alanlardan biridir.\n",
      "\n"
     ]
    }
   ],
   "source": [
    "for a in range(len('alanlardan biridir.')):\n",
    "    print('alanlardan biridir.\\n')"
   ]
  },
  {
   "cell_type": "code",
   "execution_count": 2,
   "id": "538ddb0d-204c-4011-a341-2025738069c0",
   "metadata": {},
   "outputs": [
    {
     "name": "stdout",
     "output_type": "stream",
     "text": [
      "Veri bilimi\n",
      "\n",
      "Veri bilimi\n",
      "\n",
      "Veri bilimi\n",
      "\n",
      "Veri bilimi\n",
      "\n",
      "Veri bilimi\n",
      "\n",
      "Veri bilimi\n",
      "\n",
      "Veri bilimi\n",
      "\n",
      "Veri bilimi\n",
      "\n",
      "Veri bilimi\n",
      "\n",
      "Veri bilimi\n",
      "\n",
      "Veri bilimi\n",
      "\n"
     ]
    }
   ],
   "source": [
    "for a in range(len('Veri bilimi')):\n",
    "    print('Veri bilimi\\n')"
   ]
  },
  {
   "cell_type": "markdown",
   "id": "f1978d1a-72e9-4f39-8c4f-5c33a1de2507",
   "metadata": {
    "id": "932dee64-3a37-41f6-8fc6-465f3c9560de"
   },
   "source": [
    "5- \"veri bilimi\" ve \"VERİ BİLİMİ\" kelimelerinden hangisi büyük hangisi küçük harf ile yazılmış kontrol ediniz.  \n",
    "\n",
    "Not: Hangi fonksiyonu kullanmanız gerektiğini dir() bulabilirsiniz. "
   ]
  },
  {
   "cell_type": "code",
   "execution_count": 5,
   "id": "5cb143a2-981d-4e0d-bc1e-dce990f689d5",
   "metadata": {},
   "outputs": [
    {
     "name": "stdout",
     "output_type": "stream",
     "text": [
      "kucuk harf\n",
      "buyuk harf\n"
     ]
    }
   ],
   "source": [
    "if 'veri bilimi'.islower():\n",
    "    print('kucuk harf')\n",
    "if 'VERİ BİLİMİ'.isupper():\n",
    "    print('buyuk harf')\n",
    "    "
   ]
  },
  {
   "cell_type": "markdown",
   "id": "06eed364-c09d-4596-bbec-8558c59eda95",
   "metadata": {},
   "source": [
    "6- adınız, soyadınız, yaşınız, yaşadğınız şehir ve universite not ortalamanız ile bir liste oluşturunuz. Oluşturduğunuz listeyi \"listem\" değişkeni olarak kaydedeiniz."
   ]
  },
  {
   "cell_type": "code",
   "execution_count": 35,
   "id": "04706209-8883-49b0-ae88-bf2116249b45",
   "metadata": {},
   "outputs": [],
   "source": [
    "listem  = ['Selimhan', 'Meral' ,24 ,'Istanbul', 2.5]"
   ]
  },
  {
   "cell_type": "markdown",
   "id": "21afac76-6ebb-4f45-bd50-07101121556f",
   "metadata": {},
   "source": [
    "7- \"listem\" değişkeni içerisinden yaşınızı, yaşadığınız şehiri ve universite not ortalamanızı seçerek \"listem2\" değişkenini oluşturunuz. "
   ]
  },
  {
   "cell_type": "code",
   "execution_count": 36,
   "id": "f2e5b66e-354d-457f-939c-bac102c82ca4",
   "metadata": {},
   "outputs": [],
   "source": [
    "listem2 = listem[2:]"
   ]
  },
  {
   "cell_type": "markdown",
   "id": "fa762a13-5d06-4571-bccb-d2a8dadbc1f6",
   "metadata": {},
   "source": [
    "8- \"listem2\" değişkeninin her bir elamanının türlerini yazdırınız."
   ]
  },
  {
   "cell_type": "code",
   "execution_count": 37,
   "id": "b025a731-8c10-4c18-bff8-f4bf2171b5eb",
   "metadata": {},
   "outputs": [
    {
     "name": "stdout",
     "output_type": "stream",
     "text": [
      "<class 'int'>\n",
      "<class 'str'>\n",
      "<class 'float'>\n"
     ]
    }
   ],
   "source": [
    "for i in listem2:\n",
    "    print(type(i))"
   ]
  },
  {
   "cell_type": "markdown",
   "id": "3240b4e0-401c-4881-a9c1-ea2c0a0d520c",
   "metadata": {},
   "source": [
    "9- \"listem2\" değişkenine aşağıdaki listeyi LİSTE olarak ekleyiniz."
   ]
  },
  {
   "cell_type": "code",
   "execution_count": 38,
   "id": "b637b0c2-f310-4f58-9e87-8fa6813a5c12",
   "metadata": {},
   "outputs": [
    {
     "data": {
      "text/plain": [
       "[24, 'Istanbul', 2.5, 'Ali', 90, 'Mehmet']"
      ]
     },
     "execution_count": 38,
     "metadata": {},
     "output_type": "execute_result"
    }
   ],
   "source": [
    "eklenecek_liste = [\"Ali\", 90, \"Mehmet\"]\n",
    "listem2 = listem2 + eklenecek_liste\n",
    "listem2"
   ]
  },
  {
   "cell_type": "markdown",
   "id": "1bd608d6-a894-45ea-9361-b289f10399dd",
   "metadata": {},
   "source": [
    "10- \"listem2\" değişkeninin içinden \"Ali\" ve \"90\" ı seçip Listem3 değişkenine atayınız. "
   ]
  },
  {
   "cell_type": "code",
   "execution_count": 39,
   "id": "55ce30ce-9d8a-40e8-aec1-5750559c7e43",
   "metadata": {},
   "outputs": [
    {
     "data": {
      "text/plain": [
       "['Ali', 90]"
      ]
     },
     "execution_count": 39,
     "metadata": {},
     "output_type": "execute_result"
    }
   ],
   "source": [
    "listem3 = listem2[-3:-1]\n",
    "listem3"
   ]
  },
  {
   "cell_type": "markdown",
   "id": "7d55b88a-d277-46a3-a42b-84a96f29452a",
   "metadata": {},
   "source": [
    "11- \"listem2\" değişkenine Listem3 değişkenini ELEMAN olarak ekleyiniz."
   ]
  },
  {
   "cell_type": "code",
   "execution_count": 40,
   "id": "3e838d40-3b7e-46bc-b486-42ee9b4711e9",
   "metadata": {},
   "outputs": [
    {
     "data": {
      "text/plain": [
       "[24, 'Istanbul', 2.5, 'Ali', 90, 'Mehmet', ['Ali', 90]]"
      ]
     },
     "execution_count": 40,
     "metadata": {},
     "output_type": "execute_result"
    }
   ],
   "source": [
    "listem2 = listem2 + [listem3]\n",
    "listem2"
   ]
  },
  {
   "cell_type": "markdown",
   "id": "d1026cbb-359d-41a8-b826-45db7448f895",
   "metadata": {},
   "source": [
    "12- \"listem2\" içerisinden 90 elemanını siliniz."
   ]
  },
  {
   "cell_type": "code",
   "execution_count": 43,
   "id": "5f817ae6-28d3-47de-86a4-444a68a1b933",
   "metadata": {},
   "outputs": [
    {
     "data": {
      "text/plain": [
       "[24, 'Istanbul', 2.5, 'Ali', ['Ali', 90]]"
      ]
     },
     "execution_count": 43,
     "metadata": {},
     "output_type": "execute_result"
    }
   ],
   "source": [
    "del listem2[4]\n",
    "listem2"
   ]
  },
  {
   "cell_type": "markdown",
   "id": "844e685e-c40e-45b5-8668-470399c158b5",
   "metadata": {},
   "source": [
    "13- 1'den 10'a kadar tüm rakamları azalacak şekilde sıralanmış şekilde bir liste oluşturunuz. \"yeni_liste\" değişkenine atayınız."
   ]
  },
  {
   "cell_type": "code",
   "execution_count": 54,
   "id": "57174646-1e51-4cc3-aeb1-6a76e05d770c",
   "metadata": {},
   "outputs": [],
   "source": [
    "yeni_liste = []\n",
    "for i in range(10,0,-1):\n",
    "    yeni_liste.append(i)"
   ]
  },
  {
   "cell_type": "markdown",
   "id": "27566aff-4d25-4f36-b477-30cc800772a0",
   "metadata": {},
   "source": [
    "14- \"yeni_liste\" değişkeninin içerisindeki 7 ve 2 elemanlarının yerlerini belirtiniz."
   ]
  },
  {
   "cell_type": "code",
   "execution_count": 57,
   "id": "386eb893-55ef-4087-b2d1-571f54c91602",
   "metadata": {},
   "outputs": [
    {
     "name": "stdout",
     "output_type": "stream",
     "text": [
      "3,8\n"
     ]
    }
   ],
   "source": [
    "print(str(yeni_liste.index(7))+','+str(yeni_liste.index(2)))"
   ]
  },
  {
   "cell_type": "markdown",
   "id": "028d1129-dc6f-4c8c-8d16-a1979a0477bf",
   "metadata": {},
   "source": [
    "15- \"listem2\" üzerinden tuple oluşturunuz ve \"tuple1\" adını veriniz"
   ]
  },
  {
   "cell_type": "code",
   "execution_count": 59,
   "id": "478dde0b-0e7a-4885-be99-02af09fbdfbb",
   "metadata": {},
   "outputs": [
    {
     "data": {
      "text/plain": [
       "(24, 'Istanbul', 2.5, 'Ali', ['Ali', 90])"
      ]
     },
     "execution_count": 59,
     "metadata": {},
     "output_type": "execute_result"
    }
   ],
   "source": [
    "tuple1 = tuple(listem2)\n",
    "tuple1"
   ]
  },
  {
   "cell_type": "markdown",
   "id": "49a17cb5-ecd5-42b9-97fd-c4b830063500",
   "metadata": {},
   "source": [
    "16- \"tuple1\" değişkeni içerisindeki \"Ali\" yerine \"Veli\" yazınız."
   ]
  },
  {
   "cell_type": "code",
   "execution_count": 61,
   "id": "f75e988f-f9d3-4213-88ea-337b7354e749",
   "metadata": {},
   "outputs": [],
   "source": [
    "lst = list(tuple1)\n",
    "lst[lst.index('Ali')] = 'Veli'\n",
    "tuple1 = tuple(lst)"
   ]
  },
  {
   "cell_type": "markdown",
   "id": "b7bd6f45-4c77-476c-b41a-0f717f320389",
   "metadata": {},
   "source": [
    "17- 1'den 10'a kadar tüm rakamları azalacak şekilde sıralanmış şekilde bir tuple oluşturunuz. \"yeni_tuple\" değişkenine atayınız. (NOT: methodu siz bulacaksınız)"
   ]
  },
  {
   "cell_type": "code",
   "execution_count": 65,
   "id": "9be3b208-8130-424c-ae61-61a0d212af8c",
   "metadata": {},
   "outputs": [],
   "source": [
    "yeni_tuple = []\n",
    "for i in range(10,0,-1):\n",
    "    yeni_tuple.append(i)\n",
    "yeni_tuple = tuple(yeni_tuple)"
   ]
  },
  {
   "cell_type": "markdown",
   "id": "6216e50d-de9d-4e74-b243-9a000041d7eb",
   "metadata": {},
   "source": [
    "18- \"yeni_tuple\" değişkeninin içerisindeki 7 ve 2 elemanlarının yerlerini belirtiniz."
   ]
  },
  {
   "cell_type": "code",
   "execution_count": 67,
   "id": "e59bf92d-081a-4b5a-aa29-08ae7f35380a",
   "metadata": {},
   "outputs": [
    {
     "name": "stdout",
     "output_type": "stream",
     "text": [
      "3,8\n"
     ]
    }
   ],
   "source": [
    "print(str(yeni_tuple.index(7))+','+str(yeni_tuple.index(2)))"
   ]
  },
  {
   "cell_type": "markdown",
   "id": "91b74e65-d5b7-4d1d-a1fd-7d8480640314",
   "metadata": {},
   "source": [
    "19- Aşağıda yer alan dictionary'nin içinden REG'in RMSE değerini, LOG'un MSE değerini ve CART'ın SSE değerini ayrı ayrı çekip yeni bir SET oluşturunuz. "
   ]
  },
  {
   "cell_type": "code",
   "execution_count": 80,
   "id": "4d349e7c-ca59-4a0e-b377-83f785301b92",
   "metadata": {},
   "outputs": [
    {
     "data": {
      "text/plain": [
       "{'MSE', 'RMSE', 'SSE'}"
      ]
     },
     "execution_count": 80,
     "metadata": {},
     "output_type": "execute_result"
    }
   ],
   "source": [
    "dictionary = {\"REG\": [\"RMSE\", 10],\n",
    "              \"LOG\": [\"MSE\", 20],\n",
    "              \"CART\": [\"SSE\", 10]}\n",
    "set1 = set()\n",
    "for key in dictionary:\n",
    "    set1.add(dictionary[key][0])\n",
    "    \n",
    "set1"
   ]
  },
  {
   "cell_type": "markdown",
   "id": "f519a647-99bd-4fda-b276-800020d6f083",
   "metadata": {},
   "source": [
    "20- CART değerini [\"SSE\", 30] olarak değiştiriniz. "
   ]
  },
  {
   "cell_type": "code",
   "execution_count": 83,
   "id": "7330b7e5-0a72-4e3c-a4ff-13f519b3231e",
   "metadata": {},
   "outputs": [
    {
     "data": {
      "text/plain": [
       "{'REG': ['RMSE', 10], 'LOG': ['MSE', 20], 'CART': ['SSE', 30]}"
      ]
     },
     "execution_count": 83,
     "metadata": {},
     "output_type": "execute_result"
    }
   ],
   "source": [
    "dictionary['CART'][1] = 30\n",
    "dictionary"
   ]
  },
  {
   "cell_type": "markdown",
   "id": "32a58270-b709-4f3d-86dd-15d3e17e06d6",
   "metadata": {},
   "source": [
    "21- Sözlüğe yeni bir \"RF\" key değeri ekleyerek value'sunu [\"SSE\", 50] olarak tanımlayınız.  "
   ]
  },
  {
   "cell_type": "code",
   "execution_count": 85,
   "id": "a386882e-e7aa-40e2-8c31-976014a2645f",
   "metadata": {},
   "outputs": [
    {
     "data": {
      "text/plain": [
       "{'REG': ['RMSE', 10],\n",
       " 'LOG': ['MSE', 20],\n",
       " 'CART': ['SSE', 30],\n",
       " 'RF': ['SSE', 50]}"
      ]
     },
     "execution_count": 85,
     "metadata": {},
     "output_type": "execute_result"
    }
   ],
   "source": [
    "dictionary['RF'] = ['SSE',50]\n",
    "dictionary"
   ]
  },
  {
   "cell_type": "markdown",
   "id": "bb2fcb9d-2101-4af8-a5ff-94820609524f",
   "metadata": {},
   "source": [
    "22- Aşağıda yer alan listeyi SET'e çeviriniz, \"set1\" adını veriniz ve içindeki eleman sayısını söyleyiniz. "
   ]
  },
  {
   "cell_type": "code",
   "execution_count": 87,
   "id": "1ec08309-674f-4d0c-afaf-78dbaecd738b",
   "metadata": {},
   "outputs": [
    {
     "data": {
      "text/plain": [
       "{10, 20, 'Ali', 'Ayşe', 'Mehmet'}"
      ]
     },
     "execution_count": 87,
     "metadata": {},
     "output_type": "execute_result"
    }
   ],
   "source": [
    "liste1 = [10, 20, 10, \"Ali\", 10, \"Ali\", \"Mehmet\", 20, \"Ayşe\" ]\n",
    "\n",
    "set1 = set(liste1)\n",
    "set1"
   ]
  },
  {
   "cell_type": "markdown",
   "id": "db0e1841-c521-426f-ba47-38c3fa0d3a45",
   "metadata": {},
   "source": [
    "23- \"set1\" kümesinin içinden 5. eleman ile 7. elemanı çekiniz. "
   ]
  },
  {
   "cell_type": "code",
   "execution_count": 93,
   "id": "44145397-0455-47e5-b762-b52df60eb3a5",
   "metadata": {},
   "outputs": [
    {
     "ename": "IndexError",
     "evalue": "list index out of range",
     "output_type": "error",
     "traceback": [
      "\u001b[0;31m---------------------------------------------------------------------------\u001b[0m",
      "\u001b[0;31mIndexError\u001b[0m                                Traceback (most recent call last)",
      "\u001b[0;32m<ipython-input-93-53dcf353cb01>\u001b[0m in \u001b[0;36m<module>\u001b[0;34m\u001b[0m\n\u001b[0;32m----> 1\u001b[0;31m \u001b[0mlist\u001b[0m\u001b[0;34m(\u001b[0m\u001b[0mset1\u001b[0m\u001b[0;34m)\u001b[0m\u001b[0;34m[\u001b[0m\u001b[0;36m6\u001b[0m\u001b[0;34m]\u001b[0m\u001b[0;34m\u001b[0m\u001b[0;34m\u001b[0m\u001b[0m\n\u001b[0m",
      "\u001b[0;31mIndexError\u001b[0m: list index out of range"
     ]
    }
   ],
   "source": [
    "list(set1)[6]"
   ]
  },
  {
   "cell_type": "code",
   "execution_count": 90,
   "id": "0df86ade-2c56-491c-b4ae-0b26e844816a",
   "metadata": {},
   "outputs": [
    {
     "ename": "IndexError",
     "evalue": "list index out of range",
     "output_type": "error",
     "traceback": [
      "\u001b[0;31m---------------------------------------------------------------------------\u001b[0m",
      "\u001b[0;31mIndexError\u001b[0m                                Traceback (most recent call last)",
      "\u001b[0;32m<ipython-input-90-f7cd9d49796a>\u001b[0m in \u001b[0;36m<module>\u001b[0;34m\u001b[0m\n\u001b[0;32m----> 1\u001b[0;31m \u001b[0mlist\u001b[0m\u001b[0;34m(\u001b[0m\u001b[0mset1\u001b[0m\u001b[0;34m)\u001b[0m\u001b[0;34m[\u001b[0m\u001b[0;36m8\u001b[0m\u001b[0;34m]\u001b[0m\u001b[0;34m\u001b[0m\u001b[0;34m\u001b[0m\u001b[0m\n\u001b[0m",
      "\u001b[0;31mIndexError\u001b[0m: list index out of range"
     ]
    }
   ],
   "source": [
    "list(set1)[8]"
   ]
  },
  {
   "cell_type": "markdown",
   "id": "26a8ccb1-6f47-4ab1-8af1-30e49fca6a57",
   "metadata": {},
   "source": [
    "24- \"set1\" kümesinde yer alan \"Ali\" yerine \"Veli\" ve 10 yerini \"40\" değerlerini ekleyiniz.  "
   ]
  },
  {
   "cell_type": "code",
   "execution_count": 95,
   "id": "d9a4101f-9627-4e88-8811-9a1ab0a4fbaa",
   "metadata": {},
   "outputs": [
    {
     "ename": "TypeError",
     "evalue": "'set' object does not support item assignment",
     "output_type": "error",
     "traceback": [
      "\u001b[0;31m---------------------------------------------------------------------------\u001b[0m",
      "\u001b[0;31mTypeError\u001b[0m                                 Traceback (most recent call last)",
      "\u001b[0;32m<ipython-input-95-b332737b0def>\u001b[0m in \u001b[0;36m<module>\u001b[0;34m\u001b[0m\n\u001b[0;32m----> 1\u001b[0;31m \u001b[0mset1\u001b[0m\u001b[0;34m[\u001b[0m\u001b[0;36m0\u001b[0m\u001b[0;34m]\u001b[0m \u001b[0;34m=\u001b[0m \u001b[0;36m40\u001b[0m\u001b[0;34m\u001b[0m\u001b[0;34m\u001b[0m\u001b[0m\n\u001b[0m",
      "\u001b[0;31mTypeError\u001b[0m: 'set' object does not support item assignment"
     ]
    }
   ],
   "source": [
    "set1[0] = 40"
   ]
  },
  {
   "cell_type": "markdown",
   "id": "dcc0cc95-ae87-4098-a6c5-0a11aa1a03d5",
   "metadata": {},
   "source": [
    "25- **ZOR SORU** aşağıda yer alan kümeler için soruları cevaplayınız. (Küme methodları kullanılabilir.)"
   ]
  },
  {
   "cell_type": "code",
   "execution_count": 97,
   "id": "14c1f0e3-022a-4ff9-a9d2-272c34df2e3c",
   "metadata": {},
   "outputs": [],
   "source": [
    "set1 = set([1, 3, 5])\n",
    "set2 = set([1, 2, 3])"
   ]
  },
  {
   "cell_type": "markdown",
   "id": "d9c66f31-e0ef-42c9-bca3-730c24ea2a2c",
   "metadata": {},
   "source": [
    "25.1- set1'de olup set2'de olmayanlar hangileridir? (difference())"
   ]
  },
  {
   "cell_type": "code",
   "execution_count": 98,
   "id": "d874de84-61d3-48ad-9d5a-09120e0ed978",
   "metadata": {},
   "outputs": [
    {
     "data": {
      "text/plain": [
       "{5}"
      ]
     },
     "execution_count": 98,
     "metadata": {},
     "output_type": "execute_result"
    }
   ],
   "source": [
    "print(set1.difference(set2))"
   ]
  },
  {
   "cell_type": "markdown",
   "id": "0983e4ae-89d7-4502-9c14-17e44233d702",
   "metadata": {},
   "source": [
    "25.2- set2'de olup set1'de olmayanlar hangileridir? (difference())"
   ]
  },
  {
   "cell_type": "code",
   "execution_count": 99,
   "id": "8b83db29-3c30-445e-8450-386873bcfc04",
   "metadata": {},
   "outputs": [
    {
     "name": "stdout",
     "output_type": "stream",
     "text": [
      "{2}\n"
     ]
    }
   ],
   "source": [
    "print(set2.difference(set1))"
   ]
  },
  {
   "cell_type": "markdown",
   "id": "a5a7587c-91c6-4879-b582-ae8871b8e69b",
   "metadata": {},
   "source": [
    "25.3- İki kümede de birbirlerine göre olmayanlar hangileridir? (symmetric_difference())"
   ]
  },
  {
   "cell_type": "code",
   "execution_count": 100,
   "id": "3e8a3260-4646-42cf-9efa-050747ba8969",
   "metadata": {},
   "outputs": [
    {
     "data": {
      "text/plain": [
       "{2, 5}"
      ]
     },
     "execution_count": 100,
     "metadata": {},
     "output_type": "execute_result"
    }
   ],
   "source": [
    "set1.symmetric_difference(set2)"
   ]
  },
  {
   "cell_type": "markdown",
   "id": "c7d42cd1-c13d-4d4d-8076-3cab3e5e4791",
   "metadata": {},
   "source": [
    "25.4- İki kümenin kesişimi nedir? (intersection())"
   ]
  },
  {
   "cell_type": "code",
   "execution_count": 101,
   "id": "fb4ff2a4-593e-4cf2-ab29-469c28d3bb4b",
   "metadata": {},
   "outputs": [
    {
     "data": {
      "text/plain": [
       "{1, 3}"
      ]
     },
     "execution_count": 101,
     "metadata": {},
     "output_type": "execute_result"
    }
   ],
   "source": [
    "set1.intersection(set2)"
   ]
  },
  {
   "cell_type": "markdown",
   "id": "51917b33-b708-4e02-aa1b-eb4053e45612",
   "metadata": {},
   "source": [
    "25.5- İki kümenin birleşimi nedir? (union())"
   ]
  },
  {
   "cell_type": "code",
   "execution_count": 102,
   "id": "7bdfb1b8-a021-4b58-ba5e-63cb98b974be",
   "metadata": {},
   "outputs": [
    {
     "data": {
      "text/plain": [
       "{1, 2, 3, 5}"
      ]
     },
     "execution_count": 102,
     "metadata": {},
     "output_type": "execute_result"
    }
   ],
   "source": [
    "set1.union(set2)"
   ]
  },
  {
   "cell_type": "markdown",
   "id": "223d3e00-95f8-43b7-898e-ab3a8908b4c9",
   "metadata": {},
   "source": [
    "25.6- İki kümenin kesişimi boş mudur? (isdisjoint())"
   ]
  },
  {
   "cell_type": "code",
   "execution_count": 105,
   "id": "dcc5a37a-8d20-44c3-bd42-af78047373be",
   "metadata": {},
   "outputs": [
    {
     "data": {
      "text/plain": [
       "False"
      ]
     },
     "execution_count": 105,
     "metadata": {},
     "output_type": "execute_result"
    }
   ],
   "source": [
    "set1.union(set2).isdisjoint(set2)"
   ]
  },
  {
   "cell_type": "markdown",
   "id": "30096636-70be-47f5-bddd-27db6587fd36",
   "metadata": {},
   "source": [
    "25.7- Bir küme diğer kümenin alt kümesi midir? (issubset())"
   ]
  },
  {
   "cell_type": "code",
   "execution_count": 108,
   "id": "c30475c6-f5d4-4f35-ba36-0ac5025e9a0a",
   "metadata": {},
   "outputs": [
    {
     "data": {
      "text/plain": [
       "False"
      ]
     },
     "execution_count": 108,
     "metadata": {},
     "output_type": "execute_result"
    }
   ],
   "source": [
    "set1.issubset(set2)"
   ]
  },
  {
   "cell_type": "markdown",
   "id": "6c987f14-f2ec-46fd-a30a-92cdf0d68e59",
   "metadata": {},
   "source": [
    "25.8- Bir küme diğer kümeyi kapsıyor mudur? (isdisjoint())"
   ]
  },
  {
   "cell_type": "code",
   "execution_count": 109,
   "id": "f8fa1ba0-e2c9-49a4-b015-d16df28e40da",
   "metadata": {},
   "outputs": [
    {
     "data": {
      "text/plain": [
       "False"
      ]
     },
     "execution_count": 109,
     "metadata": {},
     "output_type": "execute_result"
    }
   ],
   "source": [
    "set1.isdisjoint(set2)"
   ]
  },
  {
   "cell_type": "code",
   "execution_count": 117,
   "id": "2cd821bc-4ae1-482c-877a-50e163045e24",
   "metadata": {
    "tags": []
   },
   "outputs": [],
   "source": [
    "maaslar = [1000,2000,3000,4000,5000]\n",
    "\n",
    "def zam(maas):\n",
    "    maas += (maas/100)*20\n",
    "    return maas"
   ]
  },
  {
   "cell_type": "markdown",
   "id": "7f98af2c-26bf-4e7f-90c6-b9cb108aa234",
   "metadata": {},
   "source": [
    "26- Maaslara yuzde 20 zam yaparak zamlı_maaslar listesine atayınız. (Function, For kullanarak)"
   ]
  },
  {
   "cell_type": "code",
   "execution_count": 118,
   "id": "deec02f5-a4ca-4e15-a351-aca481deede5",
   "metadata": {},
   "outputs": [
    {
     "data": {
      "text/plain": [
       "[1200.0, 2400.0, 3600.0, 4800.0, 6000.0]"
      ]
     },
     "execution_count": 118,
     "metadata": {},
     "output_type": "execute_result"
    }
   ],
   "source": [
    "for i in range(len(maaslar)):\n",
    "    maaslar[i] = zam(maaslar[i])\n",
    "maaslar"
   ]
  },
  {
   "cell_type": "markdown",
   "id": "3f110d62-a678-4067-a798-7ed68df5190c",
   "metadata": {},
   "source": [
    "27- zamlı_maaslar listesinden 2500 TL altındakileriden 50 TL vergi; 2500 TL  üzerindekilerden 100 TL vergi kesiniz. (Function, For, If kullanarak)"
   ]
  },
  {
   "cell_type": "code",
   "execution_count": 120,
   "id": "43a9e1e2-fc31-4e38-b47d-db03469ff329",
   "metadata": {},
   "outputs": [
    {
     "data": {
      "text/plain": [
       "[1150.0, 2350.0, 3500.0, 4700.0, 5900.0]"
      ]
     },
     "execution_count": 120,
     "metadata": {},
     "output_type": "execute_result"
    }
   ],
   "source": [
    "def vergi(num):\n",
    "    if num < 2500:\n",
    "        num = num - 50\n",
    "    else:\n",
    "        num -= 100\n",
    "    return num\n",
    "\n",
    "for i in range(len(maaslar)):\n",
    "    maaslar[i] = vergi(maaslar[i])\n",
    "maaslar"
   ]
  },
  {
   "cell_type": "code",
   "execution_count": 121,
   "id": "4599a095-5edd-488a-aedd-0117f26e1538",
   "metadata": {
    "tags": []
   },
   "outputs": [],
   "source": [
    "students = [\"John\", \"Mark\", \"Venessa\", \"Mariam\"]"
   ]
  },
  {
   "cell_type": "markdown",
   "id": "00f9cc91-e415-4a26-b594-a227428f81e2",
   "metadata": {},
   "source": [
    "28- Listedeki öğrencileri index numaralarına göre iki gruba tek bir listede return edecek bir fonksiyonla yapınız."
   ]
  },
  {
   "cell_type": "code",
   "execution_count": 133,
   "id": "296c9894-5fee-4eaf-988a-151022460550",
   "metadata": {},
   "outputs": [
    {
     "data": {
      "text/plain": [
       "[0, 'John', 1, 'Mark', 2, 'Venessa', 3, 'Mariam']"
      ]
     },
     "execution_count": 133,
     "metadata": {},
     "output_type": "execute_result"
    }
   ],
   "source": [
    "def func(lst):\n",
    "    lst1 = []\n",
    "    for index, student in enumerate(lst): #index numarasını istediğin yerden başlatabilirsin.\n",
    "        lst1.append(index)\n",
    "        lst1.append(student)\n",
    "        \n",
    "    return lst1\n",
    "\n",
    "a = func(students)\n",
    "a"
   ]
  },
  {
   "cell_type": "markdown",
   "id": "1cb1ed9b-9c8e-4f06-8e50-687d49321608",
   "metadata": {},
   "source": [
    "29- Aşağıdaki şekilde string'i değiştirecek bir fonksiyon yazınız.\n",
    "\n",
    "    before: \"hi my name is john and i am learning python\"\n",
    "\n",
    "    after: \"Hi mY NaMe iS JoHn aNd i aM LeArNiNg pYtHoN\"\n"
   ]
  },
  {
   "cell_type": "code",
   "execution_count": 122,
   "id": "d62174a5-7e59-4b34-87b2-44abed242a82",
   "metadata": {},
   "outputs": [
    {
     "name": "stdout",
     "output_type": "stream",
     "text": [
      "Hi mY NaMe iS JoHn aNd i aM LeArNiNg pYtHoN\n"
     ]
    }
   ],
   "source": [
    "def alternating(string):\n",
    "    new_string = \"\"\n",
    "\n",
    "    for string_index in range(len(string)):\n",
    "        if string_index % 2 == 0:\n",
    "            new_string += string[string_index].upper()\n",
    "        else:\n",
    "            new_string += string[string_index].lower()\n",
    "\n",
    "    print(new_string)\n",
    "\n",
    "alternating(\"hi my name is john and i am learning python\")"
   ]
  },
  {
   "cell_type": "markdown",
   "id": "5ffd1e11-7854-4d30-b7ca-3dfba89f306d",
   "metadata": {},
   "source": [
    "30- Yukarıda yer alan fonksiyonu enumerate kullanarak yeniden yazınız."
   ]
  },
  {
   "cell_type": "code",
   "execution_count": 124,
   "id": "7301a05b-73b3-4736-b112-bd144791f24c",
   "metadata": {},
   "outputs": [
    {
     "name": "stdout",
     "output_type": "stream",
     "text": [
      "Hi mY NaMe iS JoHn aNd i aM LeArNiNg pYtHoN\n"
     ]
    }
   ],
   "source": [
    "def alternating(string):\n",
    "    new_string = \"\"\n",
    "\n",
    "    for index,strin in enumerate(string):\n",
    "        if index % 2 == 0:\n",
    "            new_string += string[index].upper()\n",
    "        else:\n",
    "            new_string += string[index].lower()\n",
    "\n",
    "    print(new_string)\n",
    "\n",
    "alternating(\"hi my name is john and i am learning python\")"
   ]
  },
  {
   "cell_type": "markdown",
   "id": "5bebf11b-b33e-4bc7-a7be-786501dfa89c",
   "metadata": {},
   "source": [
    "31-Kullanıcıdan ismini ve yasını alacak bir fonksiyon olusturunuz. \n",
    "Fonksiyon çıktısı aşağıdaki şekilde olmalı:\n",
    "\n",
    "    Merhaba benim ismim X,\n",
    "    Y yasındayım!"
   ]
  },
  {
   "cell_type": "code",
   "execution_count": 126,
   "id": "a244fcc7-ad55-42c4-9a97-aba62e75da84",
   "metadata": {},
   "outputs": [
    {
     "name": "stdin",
     "output_type": "stream",
     "text": [
      " yavuz\n",
      " 24\n"
     ]
    },
    {
     "name": "stdout",
     "output_type": "stream",
     "text": [
      "Merhaba benim ismim yavuz\n",
      "24 yasındayım!\n"
     ]
    }
   ],
   "source": [
    "def take_input():\n",
    "    isim = input()\n",
    "    yas = input()\n",
    "    \n",
    "    return isim,yas\n",
    "\n",
    "isim,yas = take_input()\n",
    "\n",
    "print('Merhaba benim ismim '+ isim)\n",
    "print(str(yas)+' yasındayım!')"
   ]
  },
  {
   "cell_type": "code",
   "execution_count": null,
   "id": "16e93e76-efb0-4328-8896-fdb6451b806d",
   "metadata": {},
   "outputs": [],
   "source": []
  }
 ],
 "metadata": {
  "kernelspec": {
   "display_name": "Python 3",
   "language": "python",
   "name": "python3"
  },
  "language_info": {
   "codemirror_mode": {
    "name": "ipython",
    "version": 3
   },
   "file_extension": ".py",
   "mimetype": "text/x-python",
   "name": "python",
   "nbconvert_exporter": "python",
   "pygments_lexer": "ipython3",
   "version": "3.8.8"
  }
 },
 "nbformat": 4,
 "nbformat_minor": 5
}
